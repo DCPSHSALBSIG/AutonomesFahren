{
 "cells": [
  {
   "cell_type": "code",
   "execution_count": 1,
   "metadata": {},
   "outputs": [
    {
     "name": "stderr",
     "output_type": "stream",
     "text": [
      "Using TensorFlow backend.\n"
     ]
    }
   ],
   "source": [
    "import warnings\n",
    "warnings.simplefilter(action='ignore', category=FutureWarning)\n",
    "from skimage.draw import polygon\n",
    "import PIL\n",
    "import json\n",
    "import base64\n",
    "import os.path\n",
    "from os.path import splitext\n",
    "import cv2\n",
    "import numpy as np\n",
    "import matplotlib.pyplot as plt\n",
    "import re\n",
    "#https://divamgupta.com/image-segmentation/2019/06/06/deep-learning-semantic-segmentation-keras.html\n",
    "from keras_segmentation.models.segnet import segnet\n",
    "from keras_segmentation.models.unet import unet\n",
    "from keras.models import model_from_json\n",
    "from keras.models import load_model, save_model"
   ]
  },
  {
   "cell_type": "code",
   "execution_count": 2,
   "metadata": {},
   "outputs": [],
   "source": [
    "colors = {0 : (0,0,0), \n",
    "          1 : (0,0,255), \n",
    "          2 : (0,255,0),\n",
    "          3 : (255,0,0), \n",
    "          4 : (0,255,255),         \n",
    "         }\n",
    "\n",
    "\n",
    "dim = (256, 256) "
   ]
  },
  {
   "cell_type": "code",
   "execution_count": 3,
   "metadata": {},
   "outputs": [
    {
     "name": "stdout",
     "output_type": "stream",
     "text": [
      "True\n",
      "True\n",
      "True\n",
      "True\n"
     ]
    }
   ],
   "source": [
    "path =  r'/home/inf/Bilder/Road'\n",
    "dirimages = \"images\"\n",
    "dirmasks = \"masks\"\n",
    "dirmodels = \"models\"\n",
    "\n",
    "dirimagesvalid = \"images_valid\"\n",
    "dirmasksvalid = \"masks_valid\"\n",
    "\n",
    "dirimagestest = \"images_test\"\n",
    "dirmaskstest = \"masks_test\"\n",
    "\n",
    "dirpredictions = \"predictions\"\n",
    "\n",
    "fullpathimages = os.path.join(path, dirimages)\n",
    "fullpathmasks = os.path.join(path, dirmasks)\n",
    "fullpathpredictions = os.path.join(path, dirpredictions)\n",
    "\n",
    "fullpathimagesvalid = os.path.join(path, dirimagesvalid)\n",
    "fullpathmasksvalid = os.path.join(path, dirmasksvalid)\n",
    "\n",
    "fullpathimagestest = os.path.join(path, dirimagestest)\n",
    "fullpathmaskstest = os.path.join(path, dirmaskstest)\n",
    "\n",
    "print(os.path.exists(fullpathimagesvalid))\n",
    "print(os.path.exists(fullpathmasks))\n",
    "print(os.path.exists(fullpathpredictions))\n",
    "print(os.path.exists(os.path.join(path, dirmodels)))"
   ]
  },
  {
   "cell_type": "markdown",
   "metadata": {},
   "source": [
    "# Seg Net"
   ]
  },
  {
   "cell_type": "code",
   "execution_count": 4,
   "metadata": {},
   "outputs": [
    {
     "name": "stdout",
     "output_type": "stream",
     "text": [
      "WARNING:tensorflow:From /home/inf/.virtualenvs/cv/lib/python3.6/site-packages/keras/backend/tensorflow_backend.py:4070: The name tf.nn.max_pool is deprecated. Please use tf.nn.max_pool2d instead.\n",
      "\n"
     ]
    }
   ],
   "source": [
    "model = unet(len(colors), input_height=dim[0], input_width=dim[1])\n",
    "#model = segnet(20, input_height=dim[0], input_width=dim[1])"
   ]
  },
  {
   "cell_type": "code",
   "execution_count": 5,
   "metadata": {},
   "outputs": [
    {
     "name": "stderr",
     "output_type": "stream",
     "text": [
      "  6%|▋         | 52/832 [00:00<00:01, 519.41it/s]"
     ]
    },
    {
     "name": "stdout",
     "output_type": "stream",
     "text": [
      "Verifying train dataset\n"
     ]
    },
    {
     "name": "stderr",
     "output_type": "stream",
     "text": [
      "100%|██████████| 832/832 [00:01<00:00, 532.84it/s]\n"
     ]
    },
    {
     "name": "stdout",
     "output_type": "stream",
     "text": [
      "Dataset verified! \n",
      "Starting Epoch  0\n",
      "WARNING:tensorflow:From /home/inf/.virtualenvs/cv/lib/python3.6/site-packages/tensorflow/python/ops/math_grad.py:1250: add_dispatch_support.<locals>.wrapper (from tensorflow.python.ops.array_ops) is deprecated and will be removed in a future version.\n",
      "Instructions for updating:\n",
      "Use tf.where in 2.0, which has the same broadcast rule as np.where\n",
      "WARNING:tensorflow:From /home/inf/.virtualenvs/cv/lib/python3.6/site-packages/keras/backend/tensorflow_backend.py:422: The name tf.global_variables is deprecated. Please use tf.compat.v1.global_variables instead.\n",
      "\n",
      "Epoch 1/1\n",
      "512/512 [==============================] - 23s 45ms/step - loss: 0.3002 - accuracy: 0.9233\n",
      "saved  /home/inf/Bilder/Road/autocheckpoint.model.0\n",
      "Finished Epoch 0\n",
      "Starting Epoch  1\n",
      "Epoch 1/1\n",
      "512/512 [==============================] - 20s 39ms/step - loss: 0.0838 - accuracy: 0.9717\n",
      "saved  /home/inf/Bilder/Road/autocheckpoint.model.1\n",
      "Finished Epoch 1\n",
      "Starting Epoch  2\n",
      "Epoch 1/1\n",
      "512/512 [==============================] - 20s 39ms/step - loss: 0.0692 - accuracy: 0.9763\n",
      "saved  /home/inf/Bilder/Road/autocheckpoint.model.2\n",
      "Finished Epoch 2\n",
      "Starting Epoch  3\n",
      "Epoch 1/1\n",
      "512/512 [==============================] - 20s 39ms/step - loss: 0.0577 - accuracy: 0.9800\n",
      "saved  /home/inf/Bilder/Road/autocheckpoint.model.3\n",
      "Finished Epoch 3\n",
      "Starting Epoch  4\n",
      "Epoch 1/1\n",
      "512/512 [==============================] - 20s 39ms/step - loss: 0.0488 - accuracy: 0.9828\n",
      "saved  /home/inf/Bilder/Road/autocheckpoint.model.4\n",
      "Finished Epoch 4\n",
      "Starting Epoch  5\n",
      "Epoch 1/1\n",
      "512/512 [==============================] - 20s 39ms/step - loss: 0.0438 - accuracy: 0.9843\n",
      "saved  /home/inf/Bilder/Road/autocheckpoint.model.5\n",
      "Finished Epoch 5\n",
      "Starting Epoch  6\n",
      "Epoch 1/1\n",
      "512/512 [==============================] - 20s 39ms/step - loss: 0.0394 - accuracy: 0.9858\n",
      "saved  /home/inf/Bilder/Road/autocheckpoint.model.6\n",
      "Finished Epoch 6\n",
      "Starting Epoch  7\n",
      "Epoch 1/1\n",
      "512/512 [==============================] - 20s 39ms/step - loss: 0.0361 - accuracy: 0.9869\n",
      "saved  /home/inf/Bilder/Road/autocheckpoint.model.7\n",
      "Finished Epoch 7\n",
      "Starting Epoch  8\n",
      "Epoch 1/1\n",
      "512/512 [==============================] - 20s 40ms/step - loss: 0.0331 - accuracy: 0.9878\n",
      "saved  /home/inf/Bilder/Road/autocheckpoint.model.8\n",
      "Finished Epoch 8\n",
      "Starting Epoch  9\n",
      "Epoch 1/1\n",
      "512/512 [==============================] - 20s 39ms/step - loss: 0.0316 - accuracy: 0.9884\n",
      "saved  /home/inf/Bilder/Road/autocheckpoint.model.9\n",
      "Finished Epoch 9\n"
     ]
    }
   ],
   "source": [
    "model.train(\n",
    "    train_images =  fullpathimages,\n",
    "    train_annotations = fullpathmasks,\n",
    "    checkpoints_path = path + \"/autocheckpoint\", epochs=10\n",
    ")"
   ]
  },
  {
   "cell_type": "code",
   "execution_count": 6,
   "metadata": {},
   "outputs": [],
   "source": [
    "modelweightname = \"roadunet256-lib.h5\"\n",
    "#modelweightname = \"modelsegnet256.h5\""
   ]
  },
  {
   "cell_type": "code",
   "execution_count": 7,
   "metadata": {},
   "outputs": [],
   "source": [
    "model.save_weights(os.path.join(path, dirmodels,modelweightname))\n"
   ]
  },
  {
   "cell_type": "code",
   "execution_count": 27,
   "metadata": {},
   "outputs": [],
   "source": [
    "#model = segnet(len(colors), input_height=dim[0], input_width=dim[1])\n",
    "#model.load_weights(os.path.join(path, dirmodels,modelweightname))"
   ]
  },
  {
   "cell_type": "code",
   "execution_count": 8,
   "metadata": {},
   "outputs": [
    {
     "name": "stdout",
     "output_type": "stream",
     "text": [
      "Model: \"model_3\"\n",
      "_________________________________________________________________\n",
      "Layer (type)                 Output Shape              Param #   \n",
      "=================================================================\n",
      "input_1 (InputLayer)         (None, 256, 256, 3)       0         \n",
      "_________________________________________________________________\n",
      "zero_padding2d_1 (ZeroPaddin (None, 258, 258, 3)       0         \n",
      "_________________________________________________________________\n",
      "conv2d_1 (Conv2D)            (None, 256, 256, 64)      1792      \n",
      "_________________________________________________________________\n",
      "batch_normalization_1 (Batch (None, 256, 256, 64)      256       \n",
      "_________________________________________________________________\n",
      "activation_1 (Activation)    (None, 256, 256, 64)      0         \n",
      "_________________________________________________________________\n",
      "max_pooling2d_1 (MaxPooling2 (None, 128, 128, 64)      0         \n",
      "_________________________________________________________________\n",
      "zero_padding2d_2 (ZeroPaddin (None, 130, 130, 64)      0         \n",
      "_________________________________________________________________\n",
      "conv2d_2 (Conv2D)            (None, 128, 128, 128)     73856     \n",
      "_________________________________________________________________\n",
      "batch_normalization_2 (Batch (None, 128, 128, 128)     512       \n",
      "_________________________________________________________________\n",
      "activation_2 (Activation)    (None, 128, 128, 128)     0         \n",
      "_________________________________________________________________\n",
      "max_pooling2d_2 (MaxPooling2 (None, 64, 64, 128)       0         \n",
      "_________________________________________________________________\n",
      "zero_padding2d_3 (ZeroPaddin (None, 66, 66, 128)       0         \n",
      "_________________________________________________________________\n",
      "conv2d_3 (Conv2D)            (None, 64, 64, 256)       295168    \n",
      "_________________________________________________________________\n",
      "batch_normalization_3 (Batch (None, 64, 64, 256)       1024      \n",
      "_________________________________________________________________\n",
      "activation_3 (Activation)    (None, 64, 64, 256)       0         \n",
      "_________________________________________________________________\n",
      "max_pooling2d_3 (MaxPooling2 (None, 32, 32, 256)       0         \n",
      "_________________________________________________________________\n",
      "zero_padding2d_4 (ZeroPaddin (None, 34, 34, 256)       0         \n",
      "_________________________________________________________________\n",
      "conv2d_4 (Conv2D)            (None, 32, 32, 256)       590080    \n",
      "_________________________________________________________________\n",
      "batch_normalization_4 (Batch (None, 32, 32, 256)       1024      \n",
      "_________________________________________________________________\n",
      "activation_4 (Activation)    (None, 32, 32, 256)       0         \n",
      "_________________________________________________________________\n",
      "max_pooling2d_4 (MaxPooling2 (None, 16, 16, 256)       0         \n",
      "_________________________________________________________________\n",
      "zero_padding2d_6 (ZeroPaddin (None, 18, 18, 256)       0         \n",
      "_________________________________________________________________\n",
      "conv2d_6 (Conv2D)            (None, 16, 16, 512)       1180160   \n",
      "_________________________________________________________________\n",
      "batch_normalization_6 (Batch (None, 16, 16, 512)       2048      \n",
      "_________________________________________________________________\n",
      "up_sampling2d_1 (UpSampling2 (None, 32, 32, 512)       0         \n",
      "_________________________________________________________________\n",
      "zero_padding2d_7 (ZeroPaddin (None, 34, 34, 512)       0         \n",
      "_________________________________________________________________\n",
      "conv2d_7 (Conv2D)            (None, 32, 32, 256)       1179904   \n",
      "_________________________________________________________________\n",
      "batch_normalization_7 (Batch (None, 32, 32, 256)       1024      \n",
      "_________________________________________________________________\n",
      "up_sampling2d_2 (UpSampling2 (None, 64, 64, 256)       0         \n",
      "_________________________________________________________________\n",
      "zero_padding2d_8 (ZeroPaddin (None, 66, 66, 256)       0         \n",
      "_________________________________________________________________\n",
      "conv2d_8 (Conv2D)            (None, 64, 64, 128)       295040    \n",
      "_________________________________________________________________\n",
      "batch_normalization_8 (Batch (None, 64, 64, 128)       512       \n",
      "_________________________________________________________________\n",
      "up_sampling2d_3 (UpSampling2 (None, 128, 128, 128)     0         \n",
      "_________________________________________________________________\n",
      "zero_padding2d_9 (ZeroPaddin (None, 130, 130, 128)     0         \n",
      "_________________________________________________________________\n",
      "conv2d_9 (Conv2D)            (None, 128, 128, 64)      73792     \n",
      "_________________________________________________________________\n",
      "batch_normalization_9 (Batch (None, 128, 128, 64)      256       \n",
      "_________________________________________________________________\n",
      "conv2d_10 (Conv2D)           (None, 128, 128, 20)      11540     \n",
      "_________________________________________________________________\n",
      "reshape_1 (Reshape)          (None, 16384, 20)         0         \n",
      "_________________________________________________________________\n",
      "activation_6 (Activation)    (None, 16384, 20)         0         \n",
      "=================================================================\n",
      "Total params: 3,707,988\n",
      "Trainable params: 3,704,660\n",
      "Non-trainable params: 3,328\n",
      "_________________________________________________________________\n"
     ]
    }
   ],
   "source": [
    "model.summary()"
   ]
  },
  {
   "cell_type": "code",
   "execution_count": 8,
   "metadata": {},
   "outputs": [],
   "source": [
    "imagetestlist = []\n",
    "\n",
    "imagetestnames = os.listdir(fullpathimagesvalid)\n",
    "imagetestnames.sort()\n",
    "\n",
    "for imagename in imagetestnames:\n",
    "    if imagename.endswith(\".png\"):\n",
    "        imagetestlist.append(cv2.imread(os.path.join(fullpathimagesvalid,imagename),cv2.IMREAD_COLOR ))"
   ]
  },
  {
   "cell_type": "code",
   "execution_count": 9,
   "metadata": {},
   "outputs": [],
   "source": [
    "j = 0\n",
    "out = model.predict_segmentation(\n",
    "    inp=imagetestlist[j],\n",
    "    #out_fname=fullpathpredictions+\"/out.png\",\n",
    ")"
   ]
  },
  {
   "cell_type": "code",
   "execution_count": 10,
   "metadata": {},
   "outputs": [
    {
     "name": "stdout",
     "output_type": "stream",
     "text": [
      "(128, 128)\n"
     ]
    }
   ],
   "source": [
    "print(out.shape)"
   ]
  },
  {
   "cell_type": "code",
   "execution_count": 11,
   "metadata": {},
   "outputs": [],
   "source": [
    "def makemask(mask):\n",
    "    ret_mask = np.zeros((mask.shape[0], mask.shape[1], 3), 'uint8')\n",
    "    for i in range(mask.shape[0]):\n",
    "        for j in range(mask.shape[1]):\n",
    "                assert(mask[i,j] < len(colors))\n",
    "                #if mask[i,j] < len(colors):\n",
    "                ret_mask[i,j,0] = colors[mask[i,j]][0]\n",
    "                ret_mask[i,j,1] = colors[mask[i,j]][1]\n",
    "                ret_mask[i,j,2] = colors[mask[i,j]][2]\n",
    "                #print(colors[mask[i,j]])\n",
    "                #print(mask[i,j])\n",
    "    return ret_mask"
   ]
  },
  {
   "cell_type": "code",
   "execution_count": 12,
   "metadata": {},
   "outputs": [
    {
     "data": {
      "text/plain": [
       "<matplotlib.image.AxesImage at 0x7f7d843f8d30>"
      ]
     },
     "execution_count": 12,
     "metadata": {},
     "output_type": "execute_result"
    },
    {
     "data": {
      "image/png": "[encoded data removed]",
      "text/plain": [
       "<Figure size 432x288 with 1 Axes>"
      ]
     },
     "metadata": {
      "needs_background": "light"
     },
     "output_type": "display_data"
    }
   ],
   "source": [
    "img = makemask(out)\n",
    "\n",
    "mask = np.zeros((dim[0], dim[1], 3), 'uint8')\n",
    "\n",
    "mask = cv2.resize(img, dim, interpolation = cv2.INTER_AREA) \n",
    "\n",
    "plt.imshow(mask)"
   ]
  },
  {
   "cell_type": "code",
   "execution_count": 13,
   "metadata": {
    "scrolled": true
   },
   "outputs": [
    {
     "data": {
      "text/plain": [
       "<matplotlib.image.AxesImage at 0x7f7d841087b8>"
      ]
     },
     "execution_count": 13,
     "metadata": {},
     "output_type": "execute_result"
    },
    {
     "data": {
      "image/png": "[encoded data removed]",
      "text/plain": [
       "<Figure size 432x288 with 1 Axes>"
      ]
     },
     "metadata": {
      "needs_background": "light"
     },
     "output_type": "display_data"
    }
   ],
   "source": [
    "weighted = np.zeros((dim[0], dim[1], 3), 'uint8')\n",
    "cv2.addWeighted(imagetestlist[j], 0.5, mask, 0.5, 0, weighted)\n",
    "plt.imshow(weighted)"
   ]
  },
  {
   "cell_type": "code",
   "execution_count": 14,
   "metadata": {},
   "outputs": [],
   "source": [
    "#cv2.imwrite(os.path.join(path,\"comparison\",\"image5-predict.png\"),weighted)\n",
    "\n",
    "\n",
    "for i in range(len(imagetestlist)):\n",
    "    \n",
    "    out = model.predict_segmentation(inp=imagetestlist[i])\n",
    "    img = makemask(out)\n",
    "    mask = np.zeros((dim[0], dim[1], 3), 'uint8')\n",
    "    mask = cv2.resize(img, dim, interpolation = cv2.INTER_AREA)\n",
    "    \n",
    "    weighted = np.zeros((dim[0], dim[1], 3), 'uint8')\n",
    "    cv2.addWeighted(imagetestlist[i], 0.5, mask, 0.5, 0, weighted)\n",
    "    #plt.imshow(weighted)\n",
    "    cv2.imwrite(os.path.join(path,\"predictions\",\"image{}-predict.png\".format(i)),weighted)"
   ]
  },
  {
   "cell_type": "markdown",
   "metadata": {},
   "source": [
    "# Unet Model 128"
   ]
  },
  {
   "cell_type": "code",
   "execution_count": 12,
   "metadata": {},
   "outputs": [],
   "source": [
    "from keras.models import Model, load_model\n",
    "from keras.layers import Input, BatchNormalization, Activation, Dense, Dropout, Flatten\n",
    "from keras.layers.core import Lambda, RepeatVector, Reshape\n",
    "from keras.layers.convolutional import Conv2D, Conv2DTranspose\n",
    "from keras.layers.pooling import MaxPooling2D, GlobalMaxPool2D\n",
    "from keras.layers.merge import concatenate, add\n",
    "from keras.callbacks import EarlyStopping, ModelCheckpoint, ReduceLROnPlateau\n",
    "from keras.optimizers import Adam\n",
    "from keras.preprocessing.image import ImageDataGenerator, array_to_img, img_to_array, load_img"
   ]
  },
  {
   "cell_type": "code",
   "execution_count": 53,
   "metadata": {},
   "outputs": [],
   "source": [
    "def conv2d_block(input_tensor, n_filters, kernel_size=3, batchnorm=True):\n",
    "    # first layer\n",
    "    x = Conv2D(filters=n_filters, kernel_size=(kernel_size, kernel_size), kernel_initializer=\"he_normal\",\n",
    "               padding=\"same\")(input_tensor)\n",
    "    if batchnorm:\n",
    "        x = BatchNormalization()(x)\n",
    "    x = Activation(\"relu\")(x)\n",
    "    # second layer\n",
    "    x = Conv2D(filters=n_filters, kernel_size=(kernel_size, kernel_size), kernel_initializer=\"he_normal\",\n",
    "               padding=\"same\")(x)\n",
    "    if batchnorm:\n",
    "        x = BatchNormalization()(x)\n",
    "    x = Activation(\"relu\")(x)\n",
    "    return x\n",
    "\n",
    "def get_unet(input_img, n_filters=16, dropout=0.5, batchnorm=True):\n",
    "    # contracting path\n",
    "    c1 = conv2d_block(input_img, n_filters=n_filters*1, kernel_size=3, batchnorm=batchnorm)\n",
    "    p1 = MaxPooling2D((2, 2)) (c1)\n",
    "    p1 = Dropout(dropout*0.5)(p1)\n",
    "\n",
    "    c2 = conv2d_block(p1, n_filters=n_filters*2, kernel_size=3, batchnorm=batchnorm)\n",
    "    p2 = MaxPooling2D((2, 2)) (c2)\n",
    "    p2 = Dropout(dropout)(p2)\n",
    "\n",
    "    c3 = conv2d_block(p2, n_filters=n_filters*4, kernel_size=3, batchnorm=batchnorm)\n",
    "    p3 = MaxPooling2D((2, 2)) (c3)\n",
    "    p3 = Dropout(dropout)(p3)\n",
    "\n",
    "    c4 = conv2d_block(p3, n_filters=n_filters*8, kernel_size=3, batchnorm=batchnorm)\n",
    "    p4 = MaxPooling2D(pool_size=(2, 2)) (c4)\n",
    "    p4 = Dropout(dropout)(p4)\n",
    "    \n",
    "    c5 = conv2d_block(p4, n_filters=n_filters*16, kernel_size=3, batchnorm=batchnorm)\n",
    "    \n",
    "    # expansive path\n",
    "    u6 = Conv2DTranspose(n_filters*8, (3, 3), strides=(2, 2), padding='same') (c5)\n",
    "    u6 = concatenate([u6, c4])\n",
    "    u6 = Dropout(dropout)(u6)\n",
    "    c6 = conv2d_block(u6, n_filters=n_filters*8, kernel_size=3, batchnorm=batchnorm)\n",
    "\n",
    "    u7 = Conv2DTranspose(n_filters*4, (3, 3), strides=(2, 2), padding='same') (c6)\n",
    "    u7 = concatenate([u7, c3])\n",
    "    u7 = Dropout(dropout)(u7)\n",
    "    c7 = conv2d_block(u7, n_filters=n_filters*4, kernel_size=3, batchnorm=batchnorm)\n",
    "\n",
    "    u8 = Conv2DTranspose(n_filters*2, (3, 3), strides=(2, 2), padding='same') (c7)\n",
    "    u8 = concatenate([u8, c2])\n",
    "    u8 = Dropout(dropout)(u8)\n",
    "    c8 = conv2d_block(u8, n_filters=n_filters*2, kernel_size=3, batchnorm=batchnorm)\n",
    "\n",
    "    u9 = Conv2DTranspose(n_filters*1, (3, 3), strides=(2, 2), padding='same') (c8)\n",
    "    u9 = concatenate([u9, c1], axis=3)\n",
    "    u9 = Dropout(dropout)(u9)\n",
    "    c9 = conv2d_block(u9, n_filters=n_filters*1, kernel_size=3, batchnorm=batchnorm)\n",
    "    \n",
    "    c10 = Conv2D(len(colors), (1, 1), activation=\"softmax\") (c9)\n",
    "    \n",
    "    #c11 = Flatten() (c10)\n",
    "    #c12 = Dense(dim[0]*dim[1]) (c11)\n",
    "    #c12 = Reshape((256,256,)) (c11)\n",
    "    \n",
    "    model = Model(inputs=[input_img], outputs=[c10])\n",
    "    return model"
   ]
  },
  {
   "cell_type": "code",
   "execution_count": 39,
   "metadata": {},
   "outputs": [],
   "source": [
    "def makemask(mask):\n",
    "    ret_mask = np.zeros((mask.shape[0], mask.shape[1], 3), 'uint8')\n",
    "    for i in range(mask.shape[0]):\n",
    "        for j in range(mask.shape[1]):\n",
    "                assert(mask[i,j] < len(colors))\n",
    "                #if mask[i,j] < len(colors):\n",
    "                ret_mask[i,j,0] = colors[mask[i,j]][0]\n",
    "                ret_mask[i,j,1] = colors[mask[i,j]][1]\n",
    "                ret_mask[i,j,2] = colors[mask[i,j]][2]\n",
    "                #print(colors[mask[i,j]])\n",
    "                #print(mask[i,j])\n",
    "    return ret_mask"
   ]
  },
  {
   "cell_type": "code",
   "execution_count": 14,
   "metadata": {},
   "outputs": [],
   "source": [
    "def makecolormask(mask):\n",
    "    ret_mask = np.zeros((mask.shape[0], mask.shape[1], len(colors)), 'uint8')\n",
    "    for i in range(mask.shape[0]):\n",
    "        for j in range(mask.shape[1]):\n",
    "                assert(mask[i,j] < len(colors))\n",
    "                ret_mask[i,j,mask[i,j]] = 1\n",
    "    return ret_mask"
   ]
  },
  {
   "cell_type": "code",
   "execution_count": 89,
   "metadata": {},
   "outputs": [],
   "source": [
    "imagenames = os.listdir(fullpathimages)\n",
    "imagenames.sort()\n",
    "\n",
    "masknames = os.listdir(fullpathmasks)\n",
    "masknames.sort()\n",
    "\n",
    "assert(len(imagenames) == len(masknames))\n",
    "\n",
    "for i in range(len(imagenames)):\n",
    "    assert(imagenames[i] == masknames[i])\n",
    "    \n",
    "imagenamesvalid = os.listdir(fullpathimagesvalid)\n",
    "imagenamesvalid.sort()\n",
    "\n",
    "masknamesvalid = os.listdir(fullpathmasksvalid)\n",
    "masknamesvalid.sort()\n",
    "\n",
    "assert(len(imagenamesvalid) == len(masknamesvalid))\n",
    "\n",
    "for i in range(len(imagenamesvalid)):\n",
    "    assert(imagenamesvalid[i] == masknamesvalid[i])"
   ]
  },
  {
   "cell_type": "code",
   "execution_count": 17,
   "metadata": {},
   "outputs": [],
   "source": [
    "def generatebatchdata(batchsize, fullpathimages, fullpathmasks, imagenames, masknames):\n",
    "  \n",
    "    assert(len(imagenames) == len(masknames))\n",
    "\n",
    "    while True:\n",
    "        batchstart = 0\n",
    "        batchend = batchsize    \n",
    "        \n",
    "        while batchstart < len(imagenames):\n",
    "            \n",
    "            imagelist = []\n",
    "            masklist = []\n",
    "            \n",
    "            limit = min(batchend, len(imagenames))\n",
    "\n",
    "            for i in range(batchstart, limit):\n",
    "                if imagenames[i].endswith(\".png\"):\n",
    "                    imagelist.append(cv2.imread(os.path.join(fullpathimages,imagenames[i]),cv2.IMREAD_COLOR ))\n",
    "                if masknames[i].endswith(\".png\"):\n",
    "                    masklist.append(makecolormask(cv2.imread(os.path.join(fullpathmasks,masknames[i]),cv2.IMREAD_UNCHANGED )))\n",
    "\n",
    "\n",
    "            train_data = np.array(imagelist, dtype=np.float32)\n",
    "            train_mask= np.array(masklist, dtype=np.float32)\n",
    "\n",
    "            train_data -= train_data.mean()\n",
    "            train_data /= train_data.std()\n",
    "    \n",
    "            yield (train_data,train_mask)    \n",
    "\n",
    "            batchstart += batchsize   \n",
    "            batchend += batchsize\n",
    "\n"
   ]
  },
  {
   "cell_type": "code",
   "execution_count": 22,
   "metadata": {},
   "outputs": [],
   "source": [
    "generator_train = generatebatchdata(30, fullpathimages, fullpathmasks, imagenames, masknames)\n",
    "generator_valid = generatebatchdata(40, fullpathimagesvalid, fullpathmasksvalid,  imagenamesvalid, masknamesvalid)"
   ]
  },
  {
   "cell_type": "code",
   "execution_count": 19,
   "metadata": {},
   "outputs": [
    {
     "name": "stdout",
     "output_type": "stream",
     "text": [
      "WARNING:tensorflow:From /home/inf/.virtualenvs/cv/lib/python3.6/site-packages/keras/backend/tensorflow_backend.py:4070: The name tf.nn.max_pool is deprecated. Please use tf.nn.max_pool2d instead.\n",
      "\n"
     ]
    }
   ],
   "source": [
    "input_img = Input((dim[0], dim[1], 3), name='img')\n",
    "model = get_unet(input_img, n_filters=len(colors), dropout=0.05, batchnorm=True)\n",
    "model.compile(optimizer=Adam(), loss=\"categorical_crossentropy\", metrics=[\"accuracy\"])\n",
    "#model.summary()"
   ]
  },
  {
   "cell_type": "code",
   "execution_count": 21,
   "metadata": {},
   "outputs": [],
   "source": [
    "modeljsonname=\"model-chkpt.json\"\n",
    "modelweightname=\"model-chkpt.h5\"\n",
    "\n",
    "#model.load_weights(os.path.join(path, dirmodels,modelweightname))"
   ]
  },
  {
   "cell_type": "code",
   "execution_count": 24,
   "metadata": {},
   "outputs": [],
   "source": [
    "callbacks = [\n",
    "    EarlyStopping(patience=10, verbose=1),\n",
    "    ReduceLROnPlateau(factor=0.1, patience=3, min_lr=0.00001, verbose=1),\n",
    "    ModelCheckpoint(os.path.join(path, dirmodels,modelweightname), verbose=1, save_best_only=True, save_weights_only=True)\n",
    "]"
   ]
  },
  {
   "cell_type": "code",
   "execution_count": 25,
   "metadata": {},
   "outputs": [
    {
     "name": "stdout",
     "output_type": "stream",
     "text": [
      "WARNING:tensorflow:From /home/inf/.virtualenvs/cv/lib/python3.6/site-packages/tensorflow/python/ops/math_grad.py:1250: add_dispatch_support.<locals>.wrapper (from tensorflow.python.ops.array_ops) is deprecated and will be removed in a future version.\n",
      "Instructions for updating:\n",
      "Use tf.where in 2.0, which has the same broadcast rule as np.where\n",
      "WARNING:tensorflow:From /home/inf/.virtualenvs/cv/lib/python3.6/site-packages/keras/backend/tensorflow_backend.py:422: The name tf.global_variables is deprecated. Please use tf.compat.v1.global_variables instead.\n",
      "\n",
      "Epoch 1/20\n",
      "27/27 [==============================] - 80s 3s/step - loss: 1.7825 - accuracy: 0.1841 - val_loss: 13.2908 - val_accuracy: 0.0454\n",
      "\n",
      "Epoch 00001: val_loss improved from inf to 13.29084, saving model to /home/inf/Bilder/Road/models/model-chkpt.h5\n",
      "Epoch 2/20\n",
      "27/27 [==============================] - 41s 2s/step - loss: 1.4692 - accuracy: 0.5937 - val_loss: 13.5744 - val_accuracy: 0.1079\n",
      "\n",
      "Epoch 00002: val_loss did not improve from 13.29084\n",
      "Epoch 3/20\n",
      "27/27 [==============================] - 46s 2s/step - loss: 1.3201 - accuracy: 0.8049 - val_loss: 1.9669 - val_accuracy: 0.6456\n",
      "\n",
      "Epoch 00003: val_loss improved from 13.29084 to 1.96687, saving model to /home/inf/Bilder/Road/models/model-chkpt.h5\n",
      "Epoch 4/20\n",
      "27/27 [==============================] - 45s 2s/step - loss: 1.2285 - accuracy: 0.8449 - val_loss: 1.5404 - val_accuracy: 0.7871\n",
      "\n",
      "Epoch 00004: val_loss improved from 1.96687 to 1.54040, saving model to /home/inf/Bilder/Road/models/model-chkpt.h5\n",
      "Epoch 5/20\n",
      "27/27 [==============================] - 45s 2s/step - loss: 1.1629 - accuracy: 0.8493 - val_loss: 1.2026 - val_accuracy: 0.8533\n",
      "\n",
      "Epoch 00005: val_loss improved from 1.54040 to 1.20259, saving model to /home/inf/Bilder/Road/models/model-chkpt.h5\n",
      "Epoch 6/20\n",
      "27/27 [==============================] - 45s 2s/step - loss: 1.0981 - accuracy: 0.8491 - val_loss: 1.2337 - val_accuracy: 0.8378\n",
      "\n",
      "Epoch 00006: val_loss did not improve from 1.20259\n",
      "Epoch 7/20\n",
      "27/27 [==============================] - 46s 2s/step - loss: 1.0195 - accuracy: 0.8546 - val_loss: 1.0522 - val_accuracy: 0.8584\n",
      "\n",
      "Epoch 00007: val_loss improved from 1.20259 to 1.05221, saving model to /home/inf/Bilder/Road/models/model-chkpt.h5\n",
      "Epoch 8/20\n",
      "27/27 [==============================] - 45s 2s/step - loss: 0.9403 - accuracy: 0.8551 - val_loss: 0.9450 - val_accuracy: 0.8586\n",
      "\n",
      "Epoch 00008: val_loss improved from 1.05221 to 0.94497, saving model to /home/inf/Bilder/Road/models/model-chkpt.h5\n",
      "Epoch 9/20\n",
      "27/27 [==============================] - 45s 2s/step - loss: 0.8468 - accuracy: 0.8551 - val_loss: 0.8269 - val_accuracy: 0.8586\n",
      "\n",
      "Epoch 00009: val_loss improved from 0.94497 to 0.82693, saving model to /home/inf/Bilder/Road/models/model-chkpt.h5\n",
      "Epoch 10/20\n",
      "27/27 [==============================] - 45s 2s/step - loss: 0.7507 - accuracy: 0.8609 - val_loss: 0.7509 - val_accuracy: 0.8694\n",
      "\n",
      "Epoch 00010: val_loss improved from 0.82693 to 0.75087, saving model to /home/inf/Bilder/Road/models/model-chkpt.h5\n",
      "Epoch 11/20\n",
      "27/27 [==============================] - 44s 2s/step - loss: 0.6567 - accuracy: 0.9034 - val_loss: 0.6364 - val_accuracy: 0.9007\n",
      "\n",
      "Epoch 00011: val_loss improved from 0.75087 to 0.63641, saving model to /home/inf/Bilder/Road/models/model-chkpt.h5\n",
      "Epoch 12/20\n",
      "27/27 [==============================] - 45s 2s/step - loss: 0.5625 - accuracy: 0.9220 - val_loss: 0.5235 - val_accuracy: 0.9199\n",
      "\n",
      "Epoch 00012: val_loss improved from 0.63641 to 0.52354, saving model to /home/inf/Bilder/Road/models/model-chkpt.h5\n",
      "Epoch 13/20\n",
      "27/27 [==============================] - 45s 2s/step - loss: 0.4886 - accuracy: 0.9308 - val_loss: 0.8323 - val_accuracy: 0.7588\n",
      "\n",
      "Epoch 00013: val_loss did not improve from 0.52354\n",
      "Epoch 14/20\n",
      "27/27 [==============================] - 45s 2s/step - loss: 0.4382 - accuracy: 0.9307 - val_loss: 0.4207 - val_accuracy: 0.9233\n",
      "\n",
      "Epoch 00014: val_loss improved from 0.52354 to 0.42073, saving model to /home/inf/Bilder/Road/models/model-chkpt.h5\n",
      "Epoch 15/20\n",
      "27/27 [==============================] - 46s 2s/step - loss: 0.3766 - accuracy: 0.9391 - val_loss: 0.3547 - val_accuracy: 0.9347\n",
      "\n",
      "Epoch 00015: val_loss improved from 0.42073 to 0.35468, saving model to /home/inf/Bilder/Road/models/model-chkpt.h5\n",
      "Epoch 16/20\n",
      "27/27 [==============================] - 45s 2s/step - loss: 0.3331 - accuracy: 0.9425 - val_loss: 0.2747 - val_accuracy: 0.9527\n",
      "\n",
      "Epoch 00016: val_loss improved from 0.35468 to 0.27472, saving model to /home/inf/Bilder/Road/models/model-chkpt.h5\n",
      "Epoch 17/20\n",
      "27/27 [==============================] - 45s 2s/step - loss: 0.2984 - accuracy: 0.9468 - val_loss: 0.2659 - val_accuracy: 0.9471\n",
      "\n",
      "Epoch 00017: val_loss improved from 0.27472 to 0.26589, saving model to /home/inf/Bilder/Road/models/model-chkpt.h5\n",
      "Epoch 18/20\n",
      "27/27 [==============================] - 45s 2s/step - loss: 0.2692 - accuracy: 0.9486 - val_loss: 0.2297 - val_accuracy: 0.9549\n",
      "\n",
      "Epoch 00018: val_loss improved from 0.26589 to 0.22971, saving model to /home/inf/Bilder/Road/models/model-chkpt.h5\n",
      "Epoch 19/20\n",
      "27/27 [==============================] - 45s 2s/step - loss: 0.2441 - accuracy: 0.9524 - val_loss: 0.2413 - val_accuracy: 0.9454\n",
      "\n",
      "Epoch 00019: val_loss did not improve from 0.22971\n",
      "Epoch 20/20\n",
      "27/27 [==============================] - 46s 2s/step - loss: 0.2280 - accuracy: 0.9535 - val_loss: 0.1936 - val_accuracy: 0.9586\n",
      "\n",
      "Epoch 00020: val_loss improved from 0.22971 to 0.19360, saving model to /home/inf/Bilder/Road/models/model-chkpt.h5\n"
     ]
    },
    {
     "data": {
      "text/plain": [
       "<keras.callbacks.callbacks.History at 0x7f759047e470>"
      ]
     },
     "execution_count": 25,
     "metadata": {},
     "output_type": "execute_result"
    }
   ],
   "source": [
    "#results = model.fit(train_data, train_mask, batch_size=32, epochs=40, validation_data=(valid_data, valid_mask))\n",
    "#model.fit_generator(generator_train,steps_per_epoch=3400, nb_epoch=10, callbacks=callbacks, validation_data=generator_valid, validation_steps=540)\n",
    "model.fit_generator(generator_train,steps_per_epoch=27, epochs=20, callbacks=callbacks, validation_data=generator_valid, validation_steps=1)"
   ]
  },
  {
   "cell_type": "code",
   "execution_count": 144,
   "metadata": {},
   "outputs": [],
   "source": [
    "modeljsonname=\"roadunet128.json\"\n",
    "modelweightname=\"roadunet128.h5\""
   ]
  },
  {
   "cell_type": "code",
   "execution_count": 27,
   "metadata": {},
   "outputs": [],
   "source": [
    "model_json = model.to_json()\n",
    "with open(os.path.join(path, dirmodels,modeljsonname), \"w\") as json_file:\n",
    "    json_file.write(model_json)\n",
    "\n",
    "model.save_weights(os.path.join(path, dirmodels,modelweightname))\n"
   ]
  },
  {
   "cell_type": "code",
   "execution_count": 129,
   "metadata": {},
   "outputs": [],
   "source": [
    "imagetestlist = []\n",
    "\n",
    "imagetestnames = os.listdir(fullpathimagestest)\n",
    "imagetestnames.sort()\n",
    "\n",
    "for imagename in imagetestnames:\n",
    "    if imagename.endswith(\".png\"):\n",
    "        imagetestlist.append(cv2.imread(os.path.join(fullpathimagestest,imagename),cv2.IMREAD_COLOR ))\n",
    "        \n",
    "test_data = np.array(imagetestlist, dtype=np.float32)\n",
    "test_data -= test_data.mean()\n",
    "test_data /= test_data.std()"
   ]
  },
  {
   "cell_type": "code",
   "execution_count": 130,
   "metadata": {},
   "outputs": [],
   "source": [
    "masktestlist = []\n",
    "\n",
    "masktestnames = os.listdir(fullpathmaskstest)\n",
    "masktestnames.sort()\n",
    "\n",
    "for maskname in masktestnames:\n",
    "    if maskname.endswith(\".png\"):\n",
    "        masktestlist.append(makecolormask(cv2.imread(os.path.join(fullpathmaskstest,maskname),cv2.IMREAD_UNCHANGED )))"
   ]
  },
  {
   "cell_type": "code",
   "execution_count": 145,
   "metadata": {},
   "outputs": [],
   "source": [
    "json_file = open(os.path.join(path, dirmodels,modeljsonname), 'r')\n",
    "loaded_model_json = json_file.read()\n",
    "json_file.close()\n",
    "model = model_from_json(loaded_model_json)\n",
    "model.load_weights(os.path.join(path, dirmodels,modelweightname))"
   ]
  },
  {
   "cell_type": "code",
   "execution_count": 146,
   "metadata": {},
   "outputs": [
    {
     "name": "stdout",
     "output_type": "stream",
     "text": [
      "2/2 [==============================] - 1s 320ms/step\n"
     ]
    }
   ],
   "source": [
    "predictions_test = model.predict(test_data, batch_size=1, verbose=1)"
   ]
  },
  {
   "cell_type": "code",
   "execution_count": 132,
   "metadata": {},
   "outputs": [
    {
     "data": {
      "text/plain": [
       "2"
      ]
     },
     "execution_count": 132,
     "metadata": {},
     "output_type": "execute_result"
    }
   ],
   "source": [
    "len(predictions_test)"
   ]
  },
  {
   "cell_type": "code",
   "execution_count": 110,
   "metadata": {},
   "outputs": [
    {
     "name": "stdout",
     "output_type": "stream",
     "text": [
      "(128, 128, 5)\n"
     ]
    }
   ],
   "source": [
    "print(predictions_test[0].shape)"
   ]
  },
  {
   "cell_type": "code",
   "execution_count": 86,
   "metadata": {},
   "outputs": [],
   "source": [
    "def predictedmask(masklist):\n",
    "    y_list = []\n",
    "    for mask in masklist:\n",
    "        assert mask.shape == (dim[0], dim[1], len(colors))\n",
    "        imgret = np.zeros((dim[0], dim[1]), np.uint8)\n",
    "        for i in range(dim[0]):\n",
    "            for j in range(dim[1]):\n",
    "                result = np.where(mask[i,j,:] == np.amax(mask[i,j,:]))\n",
    "                assert \n",
    "                assert result[0][0] < len(colors)\n",
    "                if result[0][0] > 1:\n",
    "                    print(\"hit\")\n",
    "                imgret[i,j] = result[0][0]\n",
    "        y_list.append(imgret)\n",
    "        #for k in range(len(colors)):\n",
    "        #    sum1 = 0;\n",
    "        #    for i in range(dim[0]):\n",
    "        #        for j in range(dim[1]):\n",
    "        #                sum1  += mask[i,j,k]\n",
    "        #    print(\"{}: {}\".format(k, sum1))\n",
    "                    \n",
    "    return y_list"
   ]
  },
  {
   "cell_type": "code",
   "execution_count": 87,
   "metadata": {},
   "outputs": [],
   "source": [
    "#print(predictions_test[0][50,50,:])\n",
    "#maxElement = np.amax(predictions_test[0][0,0,:])\n",
    "#print(maxElement)\n",
    "#result = np.where(predictions_test[0][50,50,:] == np.amax(predictions_test[0][50,50,:]))\n",
    "#print(result[0][0])"
   ]
  },
  {
   "cell_type": "code",
   "execution_count": 150,
   "metadata": {},
   "outputs": [
    {
     "data": {
      "text/plain": [
       "array([[1, 0, 0, 0, 0],\n",
       "       [1, 0, 0, 0, 0],\n",
       "       [1, 0, 0, 0, 0],\n",
       "       [1, 0, 0, 0, 0],\n",
       "       [1, 0, 0, 0, 0],\n",
       "       [1, 0, 0, 0, 0],\n",
       "       [1, 0, 0, 0, 0],\n",
       "       [1, 0, 0, 0, 0],\n",
       "       [1, 0, 0, 0, 0],\n",
       "       [1, 0, 0, 0, 0],\n",
       "       [1, 0, 0, 0, 0],\n",
       "       [1, 0, 0, 0, 0],\n",
       "       [1, 0, 0, 0, 0],\n",
       "       [1, 0, 0, 0, 0],\n",
       "       [1, 0, 0, 0, 0],\n",
       "       [1, 0, 0, 0, 0],\n",
       "       [1, 0, 0, 0, 0],\n",
       "       [1, 0, 0, 0, 0],\n",
       "       [1, 0, 0, 0, 0],\n",
       "       [1, 0, 0, 0, 0],\n",
       "       [1, 0, 0, 0, 0],\n",
       "       [1, 0, 0, 0, 0],\n",
       "       [1, 0, 0, 0, 0],\n",
       "       [1, 0, 0, 0, 0],\n",
       "       [1, 0, 0, 0, 0],\n",
       "       [1, 0, 0, 0, 0],\n",
       "       [1, 0, 0, 0, 0],\n",
       "       [1, 0, 0, 0, 0],\n",
       "       [1, 0, 0, 0, 0],\n",
       "       [1, 0, 0, 0, 0]], dtype=uint8)"
      ]
     },
     "execution_count": 150,
     "metadata": {},
     "output_type": "execute_result"
    }
   ],
   "source": [
    "#predictedmask(masktestlist)\n",
    "np.set_printoptions(threshold=np.inf)\n",
    "masktestlist[1][100,90:120,:]\n",
    "#predictions_test[3]\n",
    "#predictedmask(predictions_test)"
   ]
  },
  {
   "cell_type": "code",
   "execution_count": 149,
   "metadata": {},
   "outputs": [
    {
     "data": {
      "text/plain": [
       "array([[0.06939306, 0.74416107, 0.04547101, 0.00899772, 0.13197717],\n",
       "       [0.08245875, 0.7105625 , 0.05311001, 0.01184051, 0.14202814],\n",
       "       [0.08904376, 0.6941004 , 0.05690027, 0.01339845, 0.14655706],\n",
       "       [0.1107918 , 0.6415293 , 0.06915963, 0.01915125, 0.15936807],\n",
       "       [0.15310727, 0.5450387 , 0.09198253, 0.03320934, 0.17666215],\n",
       "       [0.18061447, 0.4851493 , 0.10612842, 0.04467681, 0.18343104],\n",
       "       [0.2211348 , 0.44915277, 0.10751763, 0.04403711, 0.1781577 ],\n",
       "       [0.29242462, 0.37779823, 0.11255882, 0.04769667, 0.16952169],\n",
       "       [0.3633027 , 0.29832292, 0.12057713, 0.05796954, 0.15982775],\n",
       "       [0.43674433, 0.2467628 , 0.11645471, 0.05600558, 0.14403255],\n",
       "       [0.49836564, 0.21355346, 0.10856621, 0.0500157 , 0.12949905],\n",
       "       [0.576993  , 0.17010951, 0.09488375, 0.04647692, 0.11153677],\n",
       "       [0.6800261 , 0.13595548, 0.05985668, 0.035655  , 0.08850674],\n",
       "       [0.7386384 , 0.11919817, 0.04230455, 0.02618466, 0.07367419],\n",
       "       [0.7877663 , 0.10301901, 0.0294138 , 0.01919401, 0.06060695],\n",
       "       [0.84038043, 0.07830051, 0.01955273, 0.01383789, 0.04792841],\n",
       "       [0.8918349 , 0.05094834, 0.01192993, 0.00963564, 0.03565115],\n",
       "       [0.9162321 , 0.03675052, 0.009233  , 0.00790887, 0.02987554],\n",
       "       [0.93088067, 0.03039914, 0.00667675, 0.0066497 , 0.02539375],\n",
       "       [0.93370265, 0.02863498, 0.0065205 , 0.00642299, 0.02471872],\n",
       "       [0.9340676 , 0.02688751, 0.0067239 , 0.00700774, 0.02531322],\n",
       "       [0.936679  , 0.0250245 , 0.0063674 , 0.00712004, 0.02480898],\n",
       "       [0.9392003 , 0.02426486, 0.00587369, 0.00679693, 0.02386423],\n",
       "       [0.93992156, 0.02449874, 0.0058418 , 0.00636142, 0.02337658],\n",
       "       [0.93936676, 0.0246912 , 0.00594654, 0.00642083, 0.02357473],\n",
       "       [0.93678665, 0.02517884, 0.00627295, 0.0070684 , 0.02469315],\n",
       "       [0.9373145 , 0.02479856, 0.00622177, 0.0070761 , 0.02458911],\n",
       "       [0.93809587, 0.02440762, 0.00630736, 0.00684733, 0.02434191],\n",
       "       [0.9369995 , 0.02513609, 0.00647762, 0.00681021, 0.02457654],\n",
       "       [0.938895  , 0.02469352, 0.00629515, 0.00633337, 0.02378298]],\n",
       "      dtype=float32)"
      ]
     },
     "execution_count": 149,
     "metadata": {},
     "output_type": "execute_result"
    }
   ],
   "source": [
    "predictions_test[1][100,90:120,:]"
   ]
  },
  {
   "cell_type": "code",
   "execution_count": 88,
   "metadata": {},
   "outputs": [],
   "source": [
    "mymasks = predictedmask(predictions_test) "
   ]
  },
  {
   "cell_type": "code",
   "execution_count": 67,
   "metadata": {},
   "outputs": [
    {
     "data": {
      "text/plain": [
       "<matplotlib.image.AxesImage at 0x7f74fdc70b70>"
      ]
     },
     "execution_count": 67,
     "metadata": {},
     "output_type": "execute_result"
    },
    {
     "data": {
      "image/png": "[encoded data removed]",
      "text/plain": [
       "<Figure size 432x288 with 1 Axes>"
      ]
     },
     "metadata": {
      "needs_background": "light"
     },
     "output_type": "display_data"
    }
   ],
   "source": [
    "ind = 2\n",
    "\n",
    "img = np.zeros((dim[0], dim[1], 3), 'uint8')\n",
    "\n",
    "img = makemask(mymasks[ind])\n",
    "\n",
    "plt.imshow(img)"
   ]
  },
  {
   "cell_type": "code",
   "execution_count": 68,
   "metadata": {},
   "outputs": [
    {
     "data": {
      "text/plain": [
       "<matplotlib.image.AxesImage at 0x7f74fdbd6550>"
      ]
     },
     "execution_count": 68,
     "metadata": {},
     "output_type": "execute_result"
    },
    {
     "data": {
      "image/png": "[encoded data removed]",
      "text/plain": [
       "<Figure size 432x288 with 1 Axes>"
      ]
     },
     "metadata": {
      "needs_background": "light"
     },
     "output_type": "display_data"
    }
   ],
   "source": [
    "plt.imshow(imagetestlist[ind])"
   ]
  },
  {
   "cell_type": "code",
   "execution_count": 69,
   "metadata": {},
   "outputs": [
    {
     "data": {
      "text/plain": [
       "<matplotlib.image.AxesImage at 0x7f74fdbb3f60>"
      ]
     },
     "execution_count": 69,
     "metadata": {},
     "output_type": "execute_result"
    },
    {
     "data": {
      "image/png": "[encoded data removed]",
      "text/plain": [
       "<Figure size 432x288 with 1 Axes>"
      ]
     },
     "metadata": {
      "needs_background": "light"
     },
     "output_type": "display_data"
    }
   ],
   "source": [
    "weighted = np.zeros((dim[0], dim[1], 3), 'uint8')\n",
    "cv2.addWeighted(imagetestlist[ind], 0.5, img, 0.5, 0, weighted)\n",
    "plt.imshow(weighted)"
   ]
  },
  {
   "cell_type": "code",
   "execution_count": 70,
   "metadata": {},
   "outputs": [],
   "source": [
    "\n",
    "#test_data = np.array(imagetestlist, dtype=np.float32)\n",
    "#test_data -= test_data.mean()\n",
    "#test_data /= test_data.std()\n",
    "\n",
    "#predictions_test = model.predict(test_data, batch_size=1, verbose=1)\n",
    "\n",
    "manymasks = predictedmask(predictions_test)\n",
    "\n",
    "assert(len(manymasks) == len(imagetestlist))\n",
    "\n",
    "for i in range(len(manymasks)):\n",
    "    #img = makemask(manymasks[i])\n",
    "    #mask = np.zeros((dim[0], dim[1], 3), 'uint8')\n",
    "    weighted = np.zeros((dim[0], dim[1], 3), 'uint8')\n",
    "    cv2.addWeighted(imagetestlist[i], 0.5, makemask(manymasks[i]), 0.5, 0, weighted)\n",
    "    #plt.imshow(weighted)\n",
    "    cv2.imwrite(os.path.join(path,\"predictions\",\"image{}-predict.png\".format(i)),weighted)"
   ]
  },
  {
   "cell_type": "code",
   "execution_count": null,
   "metadata": {},
   "outputs": [],
   "source": []
  }
 ],
 "metadata": {
  "kernelspec": {
   "display_name": "Python 3",
   "language": "python",
   "name": "python3"
  },
  "language_info": {
   "codemirror_mode": {
    "name": "ipython",
    "version": 3
   },
   "file_extension": ".py",
   "mimetype": "text/x-python",
   "name": "python",
   "nbconvert_exporter": "python",
   "pygments_lexer": "ipython3",
   "version": "3.8.3"
  }
 },
 "nbformat": 4,
 "nbformat_minor": 2
}

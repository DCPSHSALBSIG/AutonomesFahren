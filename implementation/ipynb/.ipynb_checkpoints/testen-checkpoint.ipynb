{
 "cells": [
  {
   "cell_type": "code",
   "execution_count": 1,
   "metadata": {},
   "outputs": [],
   "source": [
    "from skimage.draw import polygon\n",
    "import PIL\n",
    "import json\n",
    "import base64\n",
    "import os.path\n",
    "from os.path import splitext\n",
    "import cv2\n",
    "import numpy as np\n",
    "import matplotlib.pyplot as plt\n",
    "import re\n",
    "\n"
   ]
  },
  {
   "cell_type": "code",
   "execution_count": 2,
   "metadata": {},
   "outputs": [
    {
     "ename": "FileNotFoundError",
     "evalue": "[Errno 2] No such file or directory: './jsons/kang10.json'",
     "output_type": "error",
     "traceback": [
      "\u001b[0;31m---------------------------------------------------------------------------\u001b[0m",
      "\u001b[0;31mFileNotFoundError\u001b[0m                         Traceback (most recent call last)",
      "\u001b[0;32m<ipython-input-2-a94c2e0f9bad>\u001b[0m in \u001b[0;36m<module>\u001b[0;34m\u001b[0m\n\u001b[1;32m      6\u001b[0m \u001b[0;34m\u001b[0m\u001b[0m\n\u001b[1;32m      7\u001b[0m \u001b[0mfullpath\u001b[0m \u001b[0;34m=\u001b[0m \u001b[0mos\u001b[0m\u001b[0;34m.\u001b[0m\u001b[0mpath\u001b[0m\u001b[0;34m.\u001b[0m\u001b[0mjoin\u001b[0m\u001b[0;34m(\u001b[0m\u001b[0mpath\u001b[0m\u001b[0;34m,\u001b[0m\u001b[0mname\u001b[0m\u001b[0;34m)\u001b[0m\u001b[0;34m\u001b[0m\u001b[0;34m\u001b[0m\u001b[0m\n\u001b[0;32m----> 8\u001b[0;31m \u001b[0mf\u001b[0m \u001b[0;34m=\u001b[0m \u001b[0mopen\u001b[0m\u001b[0;34m(\u001b[0m\u001b[0mfullpath\u001b[0m\u001b[0;34m)\u001b[0m\u001b[0;34m\u001b[0m\u001b[0;34m\u001b[0m\u001b[0m\n\u001b[0m\u001b[1;32m      9\u001b[0m \u001b[0mdata\u001b[0m \u001b[0;34m=\u001b[0m \u001b[0mjson\u001b[0m\u001b[0;34m.\u001b[0m\u001b[0mload\u001b[0m\u001b[0;34m(\u001b[0m\u001b[0mf\u001b[0m\u001b[0;34m)\u001b[0m\u001b[0;34m\u001b[0m\u001b[0;34m\u001b[0m\u001b[0m\n\u001b[1;32m     10\u001b[0m \u001b[0mimg_arr\u001b[0m \u001b[0;34m=\u001b[0m \u001b[0mdata\u001b[0m\u001b[0;34m[\u001b[0m\u001b[0;34m'imageData'\u001b[0m\u001b[0;34m]\u001b[0m\u001b[0;34m\u001b[0m\u001b[0;34m\u001b[0m\u001b[0m\n",
      "\u001b[0;31mFileNotFoundError\u001b[0m: [Errno 2] No such file or directory: './jsons/kang10.json'"
     ]
    }
   ],
   "source": [
    "\n",
    "#name = r\"Testbild5 gelabelt_NeleSchäfer.json\"\n",
    "#path = r\"C:\\Users\\User\\Documents\\DeepLearning\\AutonomerTransport\\Testbilder gelabelt_NeleSchaefer\"\n",
    "\n",
    "name = r\"kang10.json\"\n",
    "path = r\"./jsons\"\n",
    "\n",
    "fullpath = os.path.join(path,name)\n",
    "f = open(fullpath)\n",
    "data = json.load(f)\n",
    "img_arr = data['imageData']\n",
    "\n",
    "\n",
    "imgdata = base64.b64decode(img_arr)\n",
    "\n",
    "colors = {\"schild\"   :    (0, 0, 255),\n",
    "          \"auto\"     :    (127, 127, 127),   \n",
    "          \"streifen\" :    (255, 0, 0),\n",
    "          \"strasse\"  :    (0, 255, 0),          \n",
    "         }\n",
    "\n",
    "masks={}\n",
    "\n",
    "im_arr = np.frombuffer(imgdata, dtype=np.uint8)\n",
    "img = cv2.imdecode(im_arr, flags=cv2.IMREAD_COLOR)\n",
    "mask = np.zeros((img.shape[0], img.shape[1]), 'uint8')\n",
    "#print(item)\n",
    "\n",
    "\n",
    "\n",
    "for shape in data['shapes']:\n",
    "    mask = np.zeros((img.shape[0], img.shape[1]), 'uint8')\n",
    "    print(shape['label'])\n",
    "    masks[shape['label']] = mask\n",
    "\n",
    "\n",
    "\n",
    "\n",
    "\n",
    "i = 0\n",
    "for item in colors:\n",
    "    print(item)\n",
    "    for shape in data['shapes']:\n",
    "        #print(shape['label'])\n",
    "        if shape['label'] == item:\n",
    "            print(shape['label'])\n",
    "            \n",
    "            vertices = np.array([[point[1],point[0]] for point in shape['points']])\n",
    "            vertices = vertices.astype(int)\n",
    "            \n",
    "            rr, cc = polygon(vertices[:,0], vertices[:,1], masks[shape['label']].shape)\n",
    "            masks[shape['label']][rr,cc] = 1\n",
    "            i += 1\n",
    "    \n",
    "\n",
    "\n",
    "\n",
    "\n",
    "for l, m in masks.items():\n",
    "    print(\"{} and {}\".format(l, m.shape))\n",
    "\n",
    "\n",
    "\n",
    "plt.imshow(img)\n",
    "print(img.shape)\n",
    "\n",
    "\n",
    "\n"
   ]
  },
  {
   "cell_type": "code",
   "execution_count": 1,
   "metadata": {},
   "outputs": [
    {
     "ename": "NameError",
     "evalue": "name 'np' is not defined",
     "output_type": "error",
     "traceback": [
      "\u001b[0;31m---------------------------------------------------------------------------\u001b[0m",
      "\u001b[0;31mNameError\u001b[0m                                 Traceback (most recent call last)",
      "\u001b[0;32m<ipython-input-1-5baca8c31da3>\u001b[0m in \u001b[0;36m<module>\u001b[0;34m\u001b[0m\n\u001b[1;32m     12\u001b[0m \u001b[0;34m\u001b[0m\u001b[0m\n\u001b[1;32m     13\u001b[0m \u001b[0;34m\u001b[0m\u001b[0m\n\u001b[0;32m---> 14\u001b[0;31m \u001b[0mret_mask\u001b[0m \u001b[0;34m=\u001b[0m \u001b[0mnp\u001b[0m\u001b[0;34m.\u001b[0m\u001b[0mzeros\u001b[0m\u001b[0;34m(\u001b[0m\u001b[0;34m(\u001b[0m\u001b[0mdim\u001b[0m\u001b[0;34m[\u001b[0m\u001b[0;36m0\u001b[0m\u001b[0;34m]\u001b[0m\u001b[0;34m,\u001b[0m \u001b[0mdim\u001b[0m\u001b[0;34m[\u001b[0m\u001b[0;36m1\u001b[0m\u001b[0;34m]\u001b[0m\u001b[0;34m,\u001b[0m \u001b[0;36m3\u001b[0m\u001b[0;34m)\u001b[0m\u001b[0;34m,\u001b[0m \u001b[0;34m'uint8'\u001b[0m\u001b[0;34m)\u001b[0m\u001b[0;34m\u001b[0m\u001b[0;34m\u001b[0m\u001b[0m\n\u001b[0m\u001b[1;32m     15\u001b[0m \u001b[0;34m\u001b[0m\u001b[0m\n\u001b[1;32m     16\u001b[0m \u001b[0;32mfor\u001b[0m \u001b[0ml\u001b[0m\u001b[0;34m,\u001b[0m \u001b[0mm\u001b[0m \u001b[0;32min\u001b[0m \u001b[0mmasks\u001b[0m\u001b[0;34m.\u001b[0m\u001b[0mitems\u001b[0m\u001b[0;34m(\u001b[0m\u001b[0;34m)\u001b[0m\u001b[0;34m:\u001b[0m\u001b[0;34m\u001b[0m\u001b[0;34m\u001b[0m\u001b[0m\n",
      "\u001b[0;31mNameError\u001b[0m: name 'np' is not defined"
     ]
    }
   ],
   "source": [
    "dim = (128, 128) \n",
    "\n",
    "def makecolor(mask, color):\n",
    "    ret_mask = np.zeros((mask.shape[0], mask.shape[1], 3), 'uint8')\n",
    "    for i in range(mask.shape[0]):\n",
    "        for j in range(mask.shape[1]):\n",
    "            if mask[i,j] >= 1: \n",
    "                ret_mask[i,j,0] = color[0]\n",
    "                ret_mask[i,j,1] = color[1]\n",
    "                ret_mask[i,j,2] = color[2]\n",
    "    return ret_mask\n",
    "\n",
    "\n",
    "ret_mask = np.zeros((dim[0], dim[1], 3), 'uint8')\n",
    "\n",
    "for l, m in masks.items():\n",
    "    print(l)\n",
    "    #ret_mask = makecolor(masks['1-Nadel2'], colors['1-Nadel2']) + makecolor(masks['Tape1'], colors['Tape1'])\n",
    "    #ret_mask += makecolor(masks[l], colors[l])\n",
    "    ret_mask += makecolor(cv2.resize(masks[l], dim, interpolation = cv2.INTER_AREA), colors[l])\n",
    "\n",
    "\n",
    "plt.imshow(ret_mask)\n",
    "#ret_mask += ret_mask\n",
    "\n",
    "\n",
    "weighted = np.zeros((dim[0], dim[1], 3), 'uint8')\n",
    "img_resized = cv2.resize(img, dim, interpolation = cv2.INTER_AREA)\n",
    "cv2.addWeighted(img_resized, 0.5, ret_mask, 0.5, 0, weighted)\n",
    "plt.imshow(weighted)\n",
    "\n",
    "\n",
    "imgname,extension = splitext(fullpath)\n",
    "\n",
    "cleanimgname = re.sub(r\"[üäöß]\",\"\", imgname)\n",
    "\n",
    "\n",
    "cv2.imwrite(cleanimgname+\"_mask.png\",ret_mask)\n",
    "cv2.imwrite(cleanimgname+\"_weighted.png\",weighted)"
   ]
  },
  {
   "cell_type": "code",
   "execution_count": 4,
   "metadata": {},
   "outputs": [
    {
     "ename": "ValueError",
     "evalue": "too many values to unpack (expected 2)",
     "output_type": "error",
     "traceback": [
      "\u001b[0;31m---------------------------------------------------------------------------\u001b[0m",
      "\u001b[0;31mValueError\u001b[0m                                Traceback (most recent call last)",
      "\u001b[0;32m<ipython-input-4-29896190d7ff>\u001b[0m in \u001b[0;36m<module>\u001b[0;34m\u001b[0m\n\u001b[0;32m----> 1\u001b[0;31m \u001b[0;32mfor\u001b[0m \u001b[0mi\u001b[0m\u001b[0;34m,\u001b[0m \u001b[0mj\u001b[0m \u001b[0;32min\u001b[0m \u001b[0mrange\u001b[0m\u001b[0;34m(\u001b[0m\u001b[0;36m10\u001b[0m\u001b[0;34m)\u001b[0m\u001b[0;34m,\u001b[0m \u001b[0mrange\u001b[0m\u001b[0;34m(\u001b[0m\u001b[0;36m10\u001b[0m\u001b[0;34m)\u001b[0m \u001b[0;34m:\u001b[0m \u001b[0mprint\u001b[0m\u001b[0;34m(\u001b[0m\u001b[0;34m(\u001b[0m\u001b[0mi\u001b[0m\u001b[0;34m,\u001b[0m\u001b[0mj\u001b[0m\u001b[0;34m)\u001b[0m\u001b[0;34m)\u001b[0m\u001b[0;34m\u001b[0m\u001b[0;34m\u001b[0m\u001b[0m\n\u001b[0m",
      "\u001b[0;31mValueError\u001b[0m: too many values to unpack (expected 2)"
     ]
    }
   ],
   "source": [
    "for i, j in range(10), range(10) : print((i,j))"
   ]
  },
  {
   "cell_type": "code",
   "execution_count": null,
   "metadata": {},
   "outputs": [],
   "source": []
  }
 ],
 "metadata": {
  "kernelspec": {
   "display_name": "Python 3",
   "language": "python",
   "name": "python3"
  },
  "language_info": {
   "codemirror_mode": {
    "name": "ipython",
    "version": 3
   },
   "file_extension": ".py",
   "mimetype": "text/x-python",
   "name": "python",
   "nbconvert_exporter": "python",
   "pygments_lexer": "ipython3",
   "version": "3.8.3"
  }
 },
 "nbformat": 4,
 "nbformat_minor": 4
}
